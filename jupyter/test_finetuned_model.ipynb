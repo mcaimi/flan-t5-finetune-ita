{
 "cells": [
  {
   "cell_type": "markdown",
   "id": "a9f17d1f",
   "metadata": {},
   "source": [
    "# Test the Fine-tuned Model\n",
    "\n",
    "Use the finetuned checkpoint to perform inference and test performance on test data\n"
   ]
  },
  {
   "cell_type": "code",
   "execution_count": null,
   "id": "4e5531f6",
   "metadata": {},
   "outputs": [],
   "source": [
    "# import libraries\n",
    "try:\n",
    "    import torch\n",
    "    from dotenv import dotenv_values\n",
    "    from libs.dataset import anonymize_text\n",
    "    from libs.utility import detect_accelerator\n",
    "\n",
    "    # import HF transformers\n",
    "    from transformers import (\n",
    "        AutoModelForSeq2SeqLM, AutoTokenizer\n",
    "    )\n",
    "except ImportError as e:\n",
    "    print(f\"Exception during library import {e}\")\n",
    "\n",
    "# load dotenv\n",
    "config_env: dict = dotenv_values(\"localenv\")\n",
    "\n",
    "# load configuration parameters\n",
    "CONFIG_FILE: str = config_env.get(\"PARAMETER_FILE\", \"parameters.yaml\")\n",
    "OUTPUT_DIR: str = config_env.get(\"OUTPUT_DIR\", \"flan-finetuned-ita\")"
   ]
  },
  {
   "cell_type": "markdown",
   "id": "5de098a4",
   "metadata": {},
   "source": [
    "## 1. Load Finetuned model from disk"
   ]
  },
  {
   "cell_type": "code",
   "execution_count": null,
   "id": "76780481",
   "metadata": {},
   "outputs": [],
   "source": [
    "# load model from disk using transformers\n",
    "finetuned_model = AutoModelForSeq2SeqLM.from_pretrained(OUTPUT_DIR)\n",
    "finetuned_tokenizer = AutoTokenizer.from_pretrained(OUTPUT_DIR)\n",
    "\n",
    "# mode model to device\n",
    "device, dtype = detect_accelerator()\n",
    "finetuned_model.to(device)"
   ]
  },
  {
   "cell_type": "markdown",
   "id": "f0a6a9b7",
   "metadata": {},
   "source": [
    "## 2. Use the loaded finetuned model to perform inference on new data"
   ]
  },
  {
   "cell_type": "code",
   "execution_count": null,
   "id": "1650af58",
   "metadata": {},
   "outputs": [],
   "source": [
    "# synthetic test data\n",
    "# Test with Italian examples containing PII\n",
    "test_sentences = [\n",
    "    \"Il signor Alessandro Bianchi abita in Via Nazionale 45, Milano.\",\n",
    "    \"Per contattare Giulia Rossi chiamare il 339-8765432 o scrivere a giulia.rossi@email.it\",\n",
    "    \"Il paziente Marco Esposito, nato il 25/08/1982, codice fiscale SPSMRC82M25H501Z.\",\n",
    "    \"Pagamento con carta 5123-4567-8901-2345 intestata a Francesca Lombardi.\",\n",
    "    \"Contattare la dottoressa Elena Ricci al numero 02-12345678, ufficio in Corso Italia 88, Roma.\",\n",
    "]"
   ]
  },
  {
   "cell_type": "code",
   "execution_count": null,
   "id": "42a4f640",
   "metadata": {},
   "outputs": [],
   "source": [
    "# perform inference\n",
    "print(\"Testing the fine-tuned model on Italian PII anonymization:\\n\")\n",
    "for sentence in test_sentences:\n",
    "    anonymized = anonymize_text(sentence, finetuned_model, finetuned_tokenizer)\n",
    "    print(f\"Originale:    {sentence}\")\n",
    "    print(f\"Anonimizzato: {anonymized}\")\n",
    "    print(\"-\" * 100)"
   ]
  }
 ],
 "metadata": {
  "kernelspec": {
   "display_name": ".venv",
   "language": "python",
   "name": "python3"
  },
  "language_info": {
   "codemirror_mode": {
    "name": "ipython",
    "version": 3
   },
   "file_extension": ".py",
   "mimetype": "text/x-python",
   "name": "python",
   "nbconvert_exporter": "python",
   "pygments_lexer": "ipython3",
   "version": "3.11.14"
  }
 },
 "nbformat": 4,
 "nbformat_minor": 5
}
